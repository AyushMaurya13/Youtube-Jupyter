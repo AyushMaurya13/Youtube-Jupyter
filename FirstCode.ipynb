{
 "cells": [
  {
   "cell_type": "markdown",
   "id": "f530abc5-02b0-4a1a-887f-c0ef89078b83",
   "metadata": {},
   "source": [
    "# My First Python Code in Jupyter Notebook "
   ]
  },
  {
   "cell_type": "markdown",
   "id": "fecd3982-a786-4ff4-b92b-28e56cf86b4d",
   "metadata": {},
   "source": [
    "# Say \"Hello\" to the world in Python"
   ]
  },
  {
   "cell_type": "markdown",
   "id": "ceb114a6-7605-4351-9f92-977d985df8e4",
   "metadata": {},
   "source": [
    "When learning a new programming language, it is customary to start with an \"hello world\" example. As simple as it is, this one line of code will ensure that we know how to print a string in output and how to execute code within cells in a notebook"
   ]
  },
  {
   "cell_type": "markdown",
   "id": "acee41f7-8f50-40d1-bbb9-1f1cfa160a79",
   "metadata": {},
   "source": [
    "** [Tip]: To execute the python code in the code cell below click Shift + Enter. **"
   ]
  },
  {
   "cell_type": "code",
   "execution_count": 1,
   "id": "a175d3e0-8f7c-4b1c-b0d3-dc329510b720",
   "metadata": {},
   "outputs": [
    {
     "name": "stdout",
     "output_type": "stream",
     "text": [
      "Hello, Python!\n"
     ]
    }
   ],
   "source": [
    "# Try your first Python output\n",
    "\n",
    "print('Hello, Python!')"
   ]
  },
  {
   "cell_type": "markdown",
   "id": "b5cf3889-62f1-4568-b459-f5ef972f736e",
   "metadata": {},
   "source": [
    "After executing the cell above, you should see that Python prints Hello, Python!. Congratulations on running your first Python code!"
   ]
  },
  {
   "cell_type": "markdown",
   "id": "c3e8e766-873c-454f-95bd-3b0fa3f61a81",
   "metadata": {},
   "source": [
    "***\n",
    "[Tip:] print() is a function. You passed the string 'Hello, Python!' as an argument to instruct Python on what to print.\n",
    "\n",
    "***"
   ]
  },
  {
   "cell_type": "markdown",
   "id": "111834cd-bbb3-48fe-9e61-be5164a8965f",
   "metadata": {},
   "source": [
    "### Wrinting comments in Python "
   ]
  },
  {
   "cell_type": "markdown",
   "id": "2a3271d4-5b11-452a-8772-c14af888f185",
   "metadata": {},
   "source": [
    "In addition to writing code, note that it's always a good idea to add comments to your code. It will help others understand what you were trying to accomplish (the reason why you wrote a given snippet of code). Not only does this help other people understand your code, it can also serve as a reminder to you when you come back to it weeks or months later"
   ]
  },
  {
   "cell_type": "markdown",
   "id": "7bd0ae1f-56da-4950-94c9-53a48ee6c63e",
   "metadata": {},
   "source": [
    "To write comments in Python, use the number symbol # before writing your comment. When you run your code, Python will ignore everything past the # on a given line."
   ]
  },
  {
   "cell_type": "code",
   "execution_count": null,
   "id": "7ae42849-864f-48b7-a3b4-4f4ec04204b9",
   "metadata": {},
   "outputs": [],
   "source": [
    "# Practice on writing comments\n",
    "# This is single line comment\n",
    "\"\"\" This is multi line comment\n",
    "Use 3 single or double quote\"\"\"\n",
    "\n",
    "print('Hello, Python!') # This line prints a string"
   ]
  },
  {
   "cell_type": "markdown",
   "id": "29b8d2e7-6436-4f43-a0cd-f74f03603b57",
   "metadata": {},
   "source": [
    "# Does Python know about your error before it runs your code?"
   ]
  },
  {
   "cell_type": "markdown",
   "id": "21387fdd-3d26-4c95-ab01-13a35866ed27",
   "metadata": {},
   "source": [
    "Python is what is called an interpreted language. Compiled languages examine your entire program at compile time, and are able to warn you about a whole class of errors prior to execution. In contrast, Python interprets your script line by line as it executes it. Python will stop executing the entire program when it encounters an error (unless the error is expected and handled by the programmer,"
   ]
  },
  {
   "cell_type": "code",
   "execution_count": null,
   "id": "bbdf33f1-dcc4-41a6-bf84-5551e11f7b73",
   "metadata": {},
   "outputs": [],
   "source": []
  },
  {
   "cell_type": "markdown",
   "id": "f7a09fd1-6c43-4b3f-aa20-d80f614c9e62",
   "metadata": {},
   "source": [
    "# Exercise My First Programe"
   ]
  },
  {
   "cell_type": "markdown",
   "id": "118d2c4a-31ca-4eaa-806a-e17852674afd",
   "metadata": {},
   "source": [
    "In the code cell below, use the print() function to print out the phrase: Hello, world!"
   ]
  },
  {
   "cell_type": "code",
   "execution_count": 2,
   "id": "7d18f30e-fbe4-4034-a61a-7cede64db381",
   "metadata": {},
   "outputs": [
    {
     "name": "stdout",
     "output_type": "stream",
     "text": [
      "Hello, world!\n"
     ]
    }
   ],
   "source": [
    "# Write your code below. Don't forget to press Shift+Enter to execute the cell\n",
    "print(\"Hello, world!\")"
   ]
  },
  {
   "cell_type": "markdown",
   "id": "70e232da-2772-4158-842d-89e81a30714c",
   "metadata": {},
   "source": [
    " In the code cell below, print out the phrase: Hello, world! and comment it with the phrase Print the traditional hello world all in one line of code"
   ]
  },
  {
   "cell_type": "code",
   "execution_count": 3,
   "id": "8daa5111-5e7b-4ab8-8b6e-23a6c9aa2608",
   "metadata": {},
   "outputs": [
    {
     "name": "stdout",
     "output_type": "stream",
     "text": [
      "Hello, world!\n"
     ]
    }
   ],
   "source": [
    "# Write your code below. Don't forget to press Shift+Enter to execute the cell\n",
    "print(\"Hello, world!\")# the traditional hello world all in one line of code"
   ]
  },
  {
   "cell_type": "markdown",
   "id": "6f36b0ee-c6e0-42cc-83ba-a85b72e4b726",
   "metadata": {},
   "source": [
    "I have completed my first lesson and hands-on lab in Python"
   ]
  },
  {
   "cell_type": "code",
   "execution_count": null,
   "id": "33b82f94-a1d7-4acc-9877-cb575af79d42",
   "metadata": {},
   "outputs": [],
   "source": []
  }
 ],
 "metadata": {
  "kernelspec": {
   "display_name": "Python 3 (ipykernel)",
   "language": "python",
   "name": "python3"
  },
  "language_info": {
   "codemirror_mode": {
    "name": "ipython",
    "version": 3
   },
   "file_extension": ".py",
   "mimetype": "text/x-python",
   "name": "python",
   "nbconvert_exporter": "python",
   "pygments_lexer": "ipython3",
   "version": "3.12.6"
  }
 },
 "nbformat": 4,
 "nbformat_minor": 5
}
