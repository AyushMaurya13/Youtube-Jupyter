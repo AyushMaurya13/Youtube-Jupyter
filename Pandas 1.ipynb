{
 "cells": [
  {
   "cell_type": "markdown",
   "id": "2b953ba0-3111-4329-92df-0089a5e95715",
   "metadata": {},
   "source": [
    "# Pandas"
   ]
  },
  {
   "cell_type": "code",
   "execution_count": null,
   "id": "84a00ac9-c883-49ac-a213-b3b7d6309693",
   "metadata": {},
   "outputs": [
    {
     "data": {
      "text/html": [
       "<div>\n",
       "<style scoped>\n",
       "    .dataframe tbody tr th:only-of-type {\n",
       "        vertical-align: middle;\n",
       "    }\n",
       "\n",
       "    .dataframe tbody tr th {\n",
       "        vertical-align: top;\n",
       "    }\n",
       "\n",
       "    .dataframe thead th {\n",
       "        text-align: right;\n",
       "    }\n",
       "</style>\n",
       "<table border=\"1\" class=\"dataframe\">\n",
       "  <thead>\n",
       "    <tr style=\"text-align: right;\">\n",
       "      <th></th>\n",
       "      <th>Sr.No</th>\n",
       "      <th>Name</th>\n",
       "      <th>Domestic Gross</th>\n",
       "      <th>Overseas Gross</th>\n",
       "      <th>Worldwide Gross</th>\n",
       "      <th>Domestic Nett</th>\n",
       "      <th>Verdict</th>\n",
       "    </tr>\n",
       "  </thead>\n",
       "  <tbody>\n",
       "    <tr>\n",
       "      <th>0</th>\n",
       "      <td>1</td>\n",
       "      <td>Dangle</td>\n",
       "      <td>540.3 cr</td>\n",
       "      <td>1525.8 cr</td>\n",
       "      <td>2066.2 cr</td>\n",
       "      <td>380.5 cr</td>\n",
       "      <td>Industry Hit</td>\n",
       "    </tr>\n",
       "    <tr>\n",
       "      <th>1</th>\n",
       "      <td>2</td>\n",
       "      <td>Pathaan</td>\n",
       "      <td>647.5 cr</td>\n",
       "      <td>388 cr</td>\n",
       "      <td>1036 cr</td>\n",
       "      <td>535 cr</td>\n",
       "      <td>Hit</td>\n",
       "    </tr>\n",
       "    <tr>\n",
       "      <th>2</th>\n",
       "      <td>3</td>\n",
       "      <td>PK</td>\n",
       "      <td>448 cr</td>\n",
       "      <td>304 cr</td>\n",
       "      <td>752 cr</td>\n",
       "      <td>337 cr</td>\n",
       "      <td>Industry Hit</td>\n",
       "    </tr>\n",
       "    <tr>\n",
       "      <th>3</th>\n",
       "      <td>4</td>\n",
       "      <td>Sultan</td>\n",
       "      <td>421 cr</td>\n",
       "      <td>197 cr</td>\n",
       "      <td>618 cr</td>\n",
       "      <td>300 cr</td>\n",
       "      <td>Blockbuster</td>\n",
       "    </tr>\n",
       "    <tr>\n",
       "      <th>4</th>\n",
       "      <td>5</td>\n",
       "      <td>Sanju</td>\n",
       "      <td>439 cr</td>\n",
       "      <td>147 cr</td>\n",
       "      <td>587 cr</td>\n",
       "      <td>335 cr</td>\n",
       "      <td>Blockbuster</td>\n",
       "    </tr>\n",
       "    <tr>\n",
       "      <th>5</th>\n",
       "      <td>6</td>\n",
       "      <td>Padmaavat</td>\n",
       "      <td>395 cr</td>\n",
       "      <td>185 cr</td>\n",
       "      <td>227 cr</td>\n",
       "      <td>283 cr</td>\n",
       "      <td>Blockbuster</td>\n",
       "    </tr>\n",
       "    <tr>\n",
       "      <th>6</th>\n",
       "      <td>7</td>\n",
       "      <td>Dhoom 3</td>\n",
       "      <td>362 cr</td>\n",
       "      <td>192 cr</td>\n",
       "      <td>554 cr</td>\n",
       "      <td>260 cr</td>\n",
       "      <td>Industry Hit</td>\n",
       "    </tr>\n",
       "    <tr>\n",
       "      <th>7</th>\n",
       "      <td>8</td>\n",
       "      <td>War</td>\n",
       "      <td>378 cr</td>\n",
       "      <td>98 cr</td>\n",
       "      <td>475 cr</td>\n",
       "      <td>319 cr</td>\n",
       "      <td>Blockbuster</td>\n",
       "    </tr>\n",
       "    <tr>\n",
       "      <th>8</th>\n",
       "      <td>9</td>\n",
       "      <td>3-Idiots</td>\n",
       "      <td>274 cr</td>\n",
       "      <td>125 cr</td>\n",
       "      <td>400 cr</td>\n",
       "      <td>201 cr</td>\n",
       "      <td>Industry Hit</td>\n",
       "    </tr>\n",
       "    <tr>\n",
       "      <th>9</th>\n",
       "      <td>10</td>\n",
       "      <td>Krrish 3</td>\n",
       "      <td>320 cr</td>\n",
       "      <td>54 cr</td>\n",
       "      <td>374 cr</td>\n",
       "      <td>246 cr</td>\n",
       "      <td>Blockbuster</td>\n",
       "    </tr>\n",
       "  </tbody>\n",
       "</table>\n",
       "</div>"
      ],
      "text/plain": [
       "   Sr.No        Name  Domestic Gross  Overseas Gross Worldwide Gross  \\\n",
       "0      1      Dangle        540.3 cr       1525.8 cr       2066.2 cr   \n",
       "1      2     Pathaan        647.5 cr          388 cr         1036 cr   \n",
       "2      3          PK          448 cr          304 cr          752 cr   \n",
       "3      4      Sultan          421 cr          197 cr          618 cr   \n",
       "4      5       Sanju          439 cr          147 cr          587 cr   \n",
       "5      6   Padmaavat          395 cr          185 cr          227 cr   \n",
       "6      7     Dhoom 3          362 cr         192 cr          554 cr    \n",
       "7      8         War         378 cr           98 cr          475 cr    \n",
       "8      9   3-Idiots          274 cr           125 cr         400 cr    \n",
       "9     10    Krrish 3         320 cr           54 cr          374 cr    \n",
       "\n",
       "  Domestic Nett       Verdict  \n",
       "0      380.5 cr  Industry Hit  \n",
       "1        535 cr           Hit  \n",
       "2        337 cr  Industry Hit  \n",
       "3        300 cr   Blockbuster  \n",
       "4        335 cr   Blockbuster  \n",
       "5        283 cr   Blockbuster  \n",
       "6        260 cr  Industry Hit  \n",
       "7        319 cr   Blockbuster  \n",
       "8        201 cr  Industry Hit  \n",
       "9       246 cr    Blockbuster  "
      ]
     },
     "execution_count": 19,
     "metadata": {},
     "output_type": "execute_result"
    }
   ],
   "source": [
    "import pandas as pd\n",
    "# read_csv is use for read csv files\n",
    "df =pd.read_csv( \"C:\\\\Users\\\\ayush\\\\OneDrive\\\\Desktop\\\\10 Hit Films.csv\")\n",
    "# df means dataFrame\n",
    "df\n"
   ]
  },
  {
   "cell_type": "code",
   "execution_count": null,
   "id": "f7da8d35-5086-4a1f-9a12-30e6d49b8ede",
   "metadata": {},
   "outputs": [
    {
     "data": {
      "text/plain": [
       "'     1525.8 cr'"
      ]
     },
     "execution_count": 13,
     "metadata": {},
     "output_type": "execute_result"
    }
   ],
   "source": [
    "df['Overseas Gross'] .max()"
   ]
  },
  {
   "cell_type": "code",
   "execution_count": null,
   "id": "1ff5d3eb-305c-4c39-98b2-43bdd2dcb6ba",
   "metadata": {},
   "outputs": [],
   "source": [
    "df.head()# print only first 5 index rows means start with zero\n",
    "df.head(2) # print only first 2 index rows"
   ]
  },
  {
   "cell_type": "code",
   "execution_count": null,
   "id": "7ca0be99-4f02-49a3-ba02-2d56c9c36f91",
   "metadata": {},
   "outputs": [
    {
     "ename": "NameError",
     "evalue": "name 'df' is not defined",
     "output_type": "error",
     "traceback": [
      "\u001b[1;31m---------------------------------------------------------------------------\u001b[0m",
      "\u001b[1;31mNameError\u001b[0m                                 Traceback (most recent call last)",
      "Cell \u001b[1;32mIn[2], line 1\u001b[0m\n\u001b[1;32m----> 1\u001b[0m \u001b[43mdf\u001b[49m\u001b[38;5;241m.\u001b[39mtail()\u001b[38;5;66;03m# prnt last 5 row\u001b[39;00m\n",
      "\u001b[1;31mNameError\u001b[0m: name 'df' is not defined"
     ]
    }
   ],
   "source": [
    "df.tail()# prnt last 5 row"
   ]
  },
  {
   "cell_type": "code",
   "execution_count": null,
   "id": "811f9364-0d44-43f0-b30b-60fd06633ffd",
   "metadata": {},
   "outputs": [],
   "source": []
  },
  {
   "cell_type": "code",
   "execution_count": null,
   "id": "c7660140-243a-42b0-a996-f0f2dbe4e5e5",
   "metadata": {},
   "outputs": [],
   "source": []
  },
  {
   "cell_type": "code",
   "execution_count": null,
   "id": "0276efa1-a4de-4bb8-9620-fda7e4caa6e0",
   "metadata": {},
   "outputs": [],
   "source": []
  },
  {
   "cell_type": "code",
   "execution_count": null,
   "id": "1fab34b1",
   "metadata": {},
   "outputs": [],
   "source": []
  },
  {
   "cell_type": "code",
   "execution_count": null,
   "id": "747e8e07",
   "metadata": {},
   "outputs": [],
   "source": []
  }
 ],
 "metadata": {
  "kernelspec": {
   "display_name": "Python 3",
   "language": "python",
   "name": "python3"
  },
  "language_info": {
   "codemirror_mode": {
    "name": "ipython",
    "version": 3
   },
   "file_extension": ".py",
   "mimetype": "text/x-python",
   "name": "python",
   "nbconvert_exporter": "python",
   "pygments_lexer": "ipython3",
   "version": "3.12.6"
  }
 },
 "nbformat": 4,
 "nbformat_minor": 5
}
