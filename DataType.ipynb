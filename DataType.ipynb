{
 "cells": [
  {
   "cell_type": "markdown",
   "id": "d4e65d20-c26e-481e-a336-7075f9ac8291",
   "metadata": {},
   "source": [
    "# Working with Types in Python "
   ]
  },
  {
   "cell_type": "markdown",
   "id": "78129cd7-6aae-4975-9255-f5ddf4b5337b",
   "metadata": {},
   "source": [
    "Python is an object-oriented language. There are many different types of objects in Python. Let's start with the most common object types: strings, integers and floats. Anytime you write words (text) in Python, you're using character strings (strings for short). The most common numbers, on the other hand, are integers (e.g. -1, 0, 100) and floats, which represent real numbers (e.g. 3.14, -42.0"
   ]
  },
  {
   "cell_type": "markdown",
   "id": "809d1f15-4efb-4d2e-8fa6-7eb884423eb6",
   "metadata": {},
   "source": [
    "### Integers"
   ]
  },
  {
   "cell_type": "markdown",
   "id": "3a2743df-bada-4c9d-8549-3778312cb63e",
   "metadata": {},
   "source": [
    "Integer it can be Positive Negative and Zero .....-3,-2,-1,0,1,2,3.....\n"
   ]
  },
  {
   "cell_type": "code",
   "execution_count": 3,
   "id": "b61e244d-9833-4096-be7f-11076307633d",
   "metadata": {},
   "outputs": [
    {
     "name": "stdout",
     "output_type": "stream",
     "text": [
      "<class 'int'>\n"
     ]
    }
   ],
   "source": [
    "# Integer it can be positive negative and Zero .....-3,-2,-1,0,1,2,3.....\n",
    "\n",
    "11\n",
    "print(type(11)) # type keyword is use for know the data type"
   ]
  },
  {
   "cell_type": "markdown",
   "id": "f25d80ec-c843-439b-bf0f-4b00061fb018",
   "metadata": {},
   "source": [
    "### Floats"
   ]
  },
  {
   "cell_type": "markdown",
   "id": "43671cb6-1528-47d5-8d0e-85fe9d7438e7",
   "metadata": {},
   "source": [
    "Floats represent real numbers; they are a superset of integer numbers but also include \"numbers with decimals\". "
   ]
  },
  {
   "cell_type": "code",
   "execution_count": 2,
   "id": "9f94303e-8100-4fbd-a8d0-06c558986a03",
   "metadata": {},
   "outputs": [
    {
     "name": "stdout",
     "output_type": "stream",
     "text": [
      "<class 'float'>\n"
     ]
    }
   ],
   "source": [
    "# Float it can every decimal value 1.0,0.0 ,-1.0\n",
    "\n",
    "2.14 \n",
    "print(type(2.14))# type keyword is use for know the data type\n"
   ]
  },
  {
   "cell_type": "markdown",
   "id": "6b95a42d-7b3c-47ff-8386-d05ff3e2e7ac",
   "metadata": {},
   "source": [
    "# String"
   ]
  },
  {
   "cell_type": "code",
   "execution_count": null,
   "id": "44e2725a-a6a9-46ab-9e2d-ddb4d0d5cedd",
   "metadata": {},
   "outputs": [],
   "source": [
    "# String\n",
    "\n",
    "\"Hello, Python 101!\"\n",
    "print(type(\"Hello, Python 101!\"))# type keyword is use for know the data type"
   ]
  },
  {
   "cell_type": "markdown",
   "id": "7ba54584-313c-4965-86cc-ab1987b766df",
   "metadata": {},
   "source": [
    "### Converting from one object type to a different object type"
   ]
  },
  {
   "cell_type": "markdown",
   "id": "2eee546e-217d-45be-884b-78dc3a3c616a",
   "metadata": {},
   "source": [
    "You can change the type of the object in Python; this is called typecasting. For example, you can convert an integer into a float"
   ]
  },
  {
   "cell_type": "markdown",
   "id": "2e4c57f8-07e6-4461-8930-05e93e222225",
   "metadata": {},
   "source": [
    "#### Converting integers to floats"
   ]
  },
  {
   "cell_type": "code",
   "execution_count": 6,
   "id": "cc157755-ef0d-414f-864b-35dc2de1306a",
   "metadata": {},
   "outputs": [
    {
     "name": "stdout",
     "output_type": "stream",
     "text": [
      "2.0\n"
     ]
    }
   ],
   "source": [
    "# Convert 2 to a float\n",
    "\n",
    "print(float(2))"
   ]
  },
  {
   "cell_type": "markdown",
   "id": "12d5743a-321c-4728-a973-8947032ec8eb",
   "metadata": {},
   "source": [
    "When we convert an integer into a float, we don't really change the value (i.e., the significand) of the number. However, if we cast a float into an integer, we could potentially lose some information. For example, if we cast the float 1.1 to integer we will get 1 and lose the decimal information (i.e., 0.1)"
   ]
  },
  {
   "cell_type": "code",
   "execution_count": 7,
   "id": "8715638c-f732-49f9-bd23-b2372e3d6592",
   "metadata": {},
   "outputs": [
    {
     "name": "stdout",
     "output_type": "stream",
     "text": [
      "1\n"
     ]
    }
   ],
   "source": [
    "# Casting 1.1 to integer will result in loss of information\n",
    "\n",
    "print(int(1.1))"
   ]
  },
  {
   "cell_type": "markdown",
   "id": "93d93780-c9cc-4b31-a01e-fb80522a4206",
   "metadata": {},
   "source": [
    "#### Converting from strings to integers or floats"
   ]
  },
  {
   "cell_type": "markdown",
   "id": "52c76925-0336-4583-a12f-ed3062d1860e",
   "metadata": {},
   "source": [
    "Sometimes, we can have a string that contains a number within it. If this is the case, we can cast that string that represents a number into an integer using int()"
   ]
  },
  {
   "cell_type": "code",
   "execution_count": 10,
   "id": "de8f81f4-cf1c-474f-ba76-45f34aeea359",
   "metadata": {},
   "outputs": [
    {
     "name": "stdout",
     "output_type": "stream",
     "text": [
      "1\n",
      "<class 'int'>\n"
     ]
    }
   ],
   "source": [
    "# Convert a string into an integer\n",
    "\n",
    "print(int('1'))\n",
    "print(type(1))"
   ]
  },
  {
   "cell_type": "markdown",
   "id": "11af6e0d-1dbe-4cd4-a0f2-5838afa0b4e5",
   "metadata": {},
   "source": [
    "But if you try to do so with a string that is not a perfect match for a number, you'll get an erro"
   ]
  },
  {
   "cell_type": "code",
   "execution_count": 11,
   "id": "9a31dfe4-c5fa-4382-8f1d-048a6e476210",
   "metadata": {},
   "outputs": [
    {
     "ename": "ValueError",
     "evalue": "invalid literal for int() with base 10: '1 or 2 people'",
     "output_type": "error",
     "traceback": [
      "\u001b[1;31m---------------------------------------------------------------------------\u001b[0m",
      "\u001b[1;31mValueError\u001b[0m                                Traceback (most recent call last)",
      "Cell \u001b[1;32mIn[11], line 3\u001b[0m\n\u001b[0;32m      1\u001b[0m \u001b[38;5;66;03m# Convert a string into an integer with error\u001b[39;00m\n\u001b[1;32m----> 3\u001b[0m \u001b[38;5;28;43mint\u001b[39;49m\u001b[43m(\u001b[49m\u001b[38;5;124;43m'\u001b[39;49m\u001b[38;5;124;43m1 or 2 people\u001b[39;49m\u001b[38;5;124;43m'\u001b[39;49m\u001b[43m)\u001b[49m\n",
      "\u001b[1;31mValueError\u001b[0m: invalid literal for int() with base 10: '1 or 2 people'"
     ]
    }
   ],
   "source": [
    "# Convert a string into an integer with error\n",
    "\n",
    "int('1 or 2 people') # Cause or and people still string"
   ]
  },
  {
   "cell_type": "code",
   "execution_count": 12,
   "id": "848cce6e-732d-4ba9-b5d6-c1e0b5456c96",
   "metadata": {},
   "outputs": [
    {
     "data": {
      "text/plain": [
       "1.2"
      ]
     },
     "execution_count": 12,
     "metadata": {},
     "output_type": "execute_result"
    }
   ],
   "source": [
    "# Convert the string \"1.2\" into a float\n",
    "\n",
    "float('1.2')"
   ]
  },
  {
   "cell_type": "markdown",
   "id": "6e810a7c-7d1e-471a-af06-5e6a2d224a0c",
   "metadata": {},
   "source": [
    "#### Converting numbers to strings"
   ]
  },
  {
   "cell_type": "markdown",
   "id": "87c1fb16-d240-4015-af9f-ceb90d4c4b9b",
   "metadata": {},
   "source": [
    "If we can convert strings to numbers, it is only natural to assume that we can convert numbers to strings, right?"
   ]
  },
  {
   "cell_type": "code",
   "execution_count": 16,
   "id": "95624ed6-0c35-4138-a2ea-3cae4bff4cd6",
   "metadata": {},
   "outputs": [
    {
     "name": "stdout",
     "output_type": "stream",
     "text": [
      "1\n",
      "<class 'str'>\n",
      "<class 'str'>\n"
     ]
    }
   ],
   "source": [
    "# Convert an integer to a string\n",
    "\n",
    "print(str(1))\n",
    "print(type(str(1)))\n",
    "\n",
    "# Convert an float to a string\n",
    "\n",
    "str(1.2)\n",
    "print(type(str(1.2)))"
   ]
  },
  {
   "cell_type": "markdown",
   "id": "31d7f515-39ef-4cdf-96bf-e50fd475358c",
   "metadata": {},
   "source": [
    "#### Boolean data type"
   ]
  },
  {
   "cell_type": "markdown",
   "id": "5672de38-90e1-4613-87a7-59dcfb8069e8",
   "metadata": {},
   "source": [
    "Boolean is another important type in Python. An object of type Boolean can take on one of two values: True or False:"
   ]
  },
  {
   "cell_type": "code",
   "execution_count": 17,
   "id": "d5f9c29a-70b4-4f2a-bd6e-c477f5cbe39b",
   "metadata": {},
   "outputs": [
    {
     "data": {
      "text/plain": [
       "True"
      ]
     },
     "execution_count": 17,
     "metadata": {},
     "output_type": "execute_result"
    }
   ],
   "source": [
    "# Value true\n",
    "\n",
    "True"
   ]
  },
  {
   "cell_type": "code",
   "execution_count": 18,
   "id": "3b380f1a-5119-4a71-a848-3361210863b0",
   "metadata": {},
   "outputs": [
    {
     "data": {
      "text/plain": [
       "False"
      ]
     },
     "execution_count": 18,
     "metadata": {},
     "output_type": "execute_result"
    }
   ],
   "source": [
    "# Value false\n",
    "\n",
    "False"
   ]
  },
  {
   "cell_type": "markdown",
   "id": "2c068347-1629-4fa3-ac00-524785718923",
   "metadata": {},
   "source": [
    "* **Notice that the value True has an uppercase \"T\". The same is true for False (i.e. you must use the uppercase \"F\"). ** *"
   ]
  },
  {
   "cell_type": "markdown",
   "id": "db2c0be9-0b76-406c-821f-7b99a8585366",
   "metadata": {},
   "source": [
    "#### We can cast boolean objects to other data types"
   ]
  },
  {
   "cell_type": "code",
   "execution_count": 19,
   "id": "4b3eea83-ba14-4101-89d1-c269c20efbf4",
   "metadata": {},
   "outputs": [
    {
     "data": {
      "text/plain": [
       "1"
      ]
     },
     "execution_count": 19,
     "metadata": {},
     "output_type": "execute_result"
    }
   ],
   "source": [
    "# Convert True to int\n",
    "\n",
    "int(True)"
   ]
  },
  {
   "cell_type": "code",
   "execution_count": 20,
   "id": "f13958f2-7f87-40bf-a4ce-95246046744a",
   "metadata": {},
   "outputs": [
    {
     "data": {
      "text/plain": [
       "True"
      ]
     },
     "execution_count": 20,
     "metadata": {},
     "output_type": "execute_result"
    }
   ],
   "source": [
    "# Convert 1 to boolean\n",
    "\n",
    "bool(1)"
   ]
  },
  {
   "cell_type": "code",
   "execution_count": 21,
   "id": "bcee248d-6b46-47e0-ad3c-4640f69a5410",
   "metadata": {},
   "outputs": [
    {
     "data": {
      "text/plain": [
       "False"
      ]
     },
     "execution_count": 21,
     "metadata": {},
     "output_type": "execute_result"
    }
   ],
   "source": [
    "# Convert 0 to boolean\n",
    "\n",
    "bool(0)"
   ]
  },
  {
   "cell_type": "code",
   "execution_count": 22,
   "id": "5cf39321-1442-4cc8-97c1-d02ced434d6b",
   "metadata": {},
   "outputs": [
    {
     "data": {
      "text/plain": [
       "1.0"
      ]
     },
     "execution_count": 22,
     "metadata": {},
     "output_type": "execute_result"
    }
   ],
   "source": [
    "# Convert True to float\n",
    "\n",
    "float(True)"
   ]
  },
  {
   "cell_type": "markdown",
   "id": "8ac287ec-28d0-4dfb-bcdc-a519034a9098",
   "metadata": {},
   "source": [
    "# Exercise: Type"
   ]
  },
  {
   "cell_type": "markdown",
   "id": "e77af3a7-6d28-4f1a-b522-37ac82f0a301",
   "metadata": {},
   "source": [
    "What is the data type of the result of: 6 / 2?"
   ]
  },
  {
   "cell_type": "code",
   "execution_count": 23,
   "id": "339c8c4a-5883-4d55-b8e2-7e5c84f94bbc",
   "metadata": {},
   "outputs": [
    {
     "name": "stdout",
     "output_type": "stream",
     "text": [
      "3.0\n",
      "<class 'float'>\n"
     ]
    }
   ],
   "source": [
    "# Write your code below. Don't forget to press Shift+Enter to execute the cell\n",
    "\n",
    "s = 6 / 2\n",
    "print(s)\n",
    "print(type(s))"
   ]
  },
  {
   "cell_type": "markdown",
   "id": "daa478d7-d882-406b-8c36-561dbb9cbcbb",
   "metadata": {},
   "source": [
    "What is the type of the result of: 6 // 2?"
   ]
  },
  {
   "cell_type": "code",
   "execution_count": 24,
   "id": "dad868ed-c95b-4e10-b306-58c68d9df22c",
   "metadata": {},
   "outputs": [
    {
     "name": "stdout",
     "output_type": "stream",
     "text": [
      "3\n",
      "<class 'int'>\n"
     ]
    }
   ],
   "source": [
    "# Write your code below. Don't forget to press Shift+Enter to execute the cell\n",
    "\n",
    "t = 6//2 # // is known as floar division in python which remove Decimal value\n",
    "print(t)\n",
    "print(type(t))"
   ]
  },
  {
   "cell_type": "markdown",
   "id": "72398f13-8425-4832-a32c-a4936577c0e2",
   "metadata": {},
   "source": [
    "What is the type of the result of: \"Hello, World!\""
   ]
  },
  {
   "cell_type": "code",
   "execution_count": 25,
   "id": "336bcb71-bbf4-41a8-aa3b-b3fd05726c8c",
   "metadata": {},
   "outputs": [
    {
     "name": "stdout",
     "output_type": "stream",
     "text": [
      "<class 'str'>\n"
     ]
    }
   ],
   "source": [
    "# Write your code below. Don't forget to press Shift+Enter to execute the cell\n",
    "\n",
    "print(type(\"Hello, World!\"))\n"
   ]
  },
  {
   "cell_type": "markdown",
   "id": "63f42c3e-5df9-480d-a017-454900e408ef",
   "metadata": {},
   "source": [
    "What is the type of the result of: \"hello\" == \"world\""
   ]
  },
  {
   "cell_type": "code",
   "execution_count": 28,
   "id": "c5dc81f2-ebe3-4747-b344-dfdcaedbe08a",
   "metadata": {},
   "outputs": [
    {
     "data": {
      "text/plain": [
       "False"
      ]
     },
     "execution_count": 28,
     "metadata": {},
     "output_type": "execute_result"
    }
   ],
   "source": [
    "\"hello\" == \"world\" # here use of comparision operator"
   ]
  },
  {
   "cell_type": "markdown",
   "id": "c73144fc-21fb-41e6-93b3-29ab30738078",
   "metadata": {},
   "source": [
    "Write the code to convert the following number representing employeeid \"1001\" to an integer"
   ]
  },
  {
   "cell_type": "code",
   "execution_count": 31,
   "id": "ec1e846e-6673-41a6-b422-0d53d8362325",
   "metadata": {},
   "outputs": [
    {
     "data": {
      "text/plain": [
       "1001"
      ]
     },
     "execution_count": 31,
     "metadata": {},
     "output_type": "execute_result"
    }
   ],
   "source": [
    "# Write your code below. Don't forget to press Shift+Enter to execute the cell\n",
    "int(\"1001\")\n"
   ]
  },
  {
   "cell_type": "markdown",
   "id": "15261cc6-c221-413a-bb75-8636a024e800",
   "metadata": {},
   "source": [
    "Write the code to convert this number representing financial value \"1234.56\" to a floating point number"
   ]
  },
  {
   "cell_type": "code",
   "execution_count": 32,
   "id": "9e67ec52-a0b1-43d2-99d4-9d30094bafb3",
   "metadata": {},
   "outputs": [
    {
     "data": {
      "text/plain": [
       "1234.56"
      ]
     },
     "execution_count": 32,
     "metadata": {},
     "output_type": "execute_result"
    }
   ],
   "source": [
    "# Write your code below. Don't forget to press Shift+Enter to execute the cell\n",
    "float(\"1234.56\")\n"
   ]
  },
  {
   "cell_type": "markdown",
   "id": "6f316812-7f4b-4bfd-a1a9-d4e268f1aabe",
   "metadata": {},
   "source": [
    "Write the code to convert this phone number 123-456-7890 to a string"
   ]
  },
  {
   "cell_type": "code",
   "execution_count": 34,
   "id": "7de983c0-e585-43fd-bc86-f8c072090eea",
   "metadata": {},
   "outputs": [
    {
     "data": {
      "text/plain": [
       "'123-456-67890'"
      ]
     },
     "execution_count": 34,
     "metadata": {},
     "output_type": "execute_result"
    }
   ],
   "source": [
    "# Write your code below. Don't forget to press Shift+Enter to execute the cell\n",
    "\n",
    "str(\"123-456-67890\")"
   ]
  },
  {
   "cell_type": "markdown",
   "id": "1afd4ebd-3f4f-42fe-9ac4-a9f4239f027e",
   "metadata": {},
   "source": [
    "##### I have completed your hands-on lab on Types in Python."
   ]
  },
  {
   "cell_type": "code",
   "execution_count": null,
   "id": "ff1a3325-15aa-44b4-9f6c-0238c6a6357d",
   "metadata": {},
   "outputs": [],
   "source": []
  }
 ],
 "metadata": {
  "kernelspec": {
   "display_name": "Python 3 (ipykernel)",
   "language": "python",
   "name": "python3"
  },
  "language_info": {
   "codemirror_mode": {
    "name": "ipython",
    "version": 3
   },
   "file_extension": ".py",
   "mimetype": "text/x-python",
   "name": "python",
   "nbconvert_exporter": "python",
   "pygments_lexer": "ipython3",
   "version": "3.12.6"
  }
 },
 "nbformat": 4,
 "nbformat_minor": 5
}
