{
 "cells": [
  {
   "cell_type": "markdown",
   "id": "546ff6fe-5570-4157-9c8e-39b29c4ed010",
   "metadata": {},
   "source": [
    "# Working with Variable and Expressions in Python"
   ]
  },
  {
   "cell_type": "markdown",
   "id": "d7274ee3-1535-42f6-ae39-84d5b1eb3d80",
   "metadata": {},
   "source": [
    "#### Expression and Variables"
   ]
  },
  {
   "cell_type": "markdown",
   "id": "7a14aa3b-5802-4098-ac05-2397bc6b6e2a",
   "metadata": {},
   "source": [
    "##### Expressions"
   ]
  },
  {
   "cell_type": "markdown",
   "id": "6911085c-46a1-4f79-b2f7-5c050650fc14",
   "metadata": {},
   "source": [
    "Expressions in Python can include operations among compatible types (e.g., integers and floats). For example, basic arithmetic operations like adding multiple numbers"
   ]
  },
  {
   "cell_type": "code",
   "execution_count": 1,
   "id": "f1ac9576-87bd-4e8b-b28c-8eb014117b18",
   "metadata": {},
   "outputs": [
    {
     "data": {
      "text/plain": [
       "160"
      ]
     },
     "execution_count": 1,
     "metadata": {},
     "output_type": "execute_result"
    }
   ],
   "source": [
    "# Addition operation expression\n",
    "\n",
    "43 + 60 + 16 + 41"
   ]
  },
  {
   "cell_type": "markdown",
   "id": "044ea0f8-f783-4e71-92d2-1124669e3b8a",
   "metadata": {},
   "source": [
    "We can perform subtraction operations using the minus operator. In this case the result is a negative number:"
   ]
  },
  {
   "cell_type": "code",
   "execution_count": 2,
   "id": "43ae34d6-fb17-4662-9026-e621a7a549e2",
   "metadata": {},
   "outputs": [
    {
     "data": {
      "text/plain": [
       "-10"
      ]
     },
     "execution_count": 2,
     "metadata": {},
     "output_type": "execute_result"
    }
   ],
   "source": [
    "# Subtraction operation expression\n",
    "\n",
    "50 - 60"
   ]
  },
  {
   "cell_type": "markdown",
   "id": "8c6724d0-d1fd-446f-a274-5fddb0583e96",
   "metadata": {},
   "source": [
    "We can do multiplication using an asterisk:"
   ]
  },
  {
   "cell_type": "code",
   "execution_count": 3,
   "id": "84a37c26-17dd-48ed-a291-2c0a1c18d1ae",
   "metadata": {},
   "outputs": [
    {
     "data": {
      "text/plain": [
       "25"
      ]
     },
     "execution_count": 3,
     "metadata": {},
     "output_type": "execute_result"
    }
   ],
   "source": [
    "# Multiplication operation expression\n",
    "\n",
    "5 * 5"
   ]
  },
  {
   "cell_type": "markdown",
   "id": "022f678c-71af-4639-9d7d-ea8b9e044405",
   "metadata": {},
   "source": [
    "We can also perform division with the forward slash:"
   ]
  },
  {
   "cell_type": "code",
   "execution_count": 10,
   "id": "f392e3e3-5104-46f6-af4f-53590860f450",
   "metadata": {},
   "outputs": [
    {
     "name": "stdout",
     "output_type": "stream",
     "text": [
      "5.0\n",
      "4.166666666666667\n"
     ]
    }
   ],
   "source": [
    "# Division operation expression\n",
    "print(25/5)\n",
    "print(25 /6)"
   ]
  },
  {
   "cell_type": "markdown",
   "id": "ee028dc4-884c-4a26-8cad-b6c0c58afc51",
   "metadata": {},
   "source": [
    "As seen in the quiz above, we can use the double slash for integer division, where the result is rounded down to the nearest integer:"
   ]
  },
  {
   "cell_type": "code",
   "execution_count": null,
   "id": "230651a3-5491-4c9c-9bd0-76179e0d6488",
   "metadata": {},
   "outputs": [],
   "source": [
    "# Integer division operation expression\n",
    "\n",
    "25 // 5"
   ]
  },
  {
   "cell_type": "markdown",
   "id": "e272ea84-f8e3-4e24-8c09-a0c8c2328a67",
   "metadata": {},
   "source": [
    "Let's write an expression that calculates how many hours there are in 160 minutes:"
   ]
  },
  {
   "cell_type": "code",
   "execution_count": 11,
   "id": "56cb71d0-bf66-49a7-b6c8-93f6bc01d504",
   "metadata": {},
   "outputs": [
    {
     "data": {
      "text/plain": [
       "2"
      ]
     },
     "execution_count": 11,
     "metadata": {},
     "output_type": "execute_result"
    }
   ],
   "source": [
    "# Write your code below. Don't forget to press Shift+Enter to execute the cell\n",
    "160//60 "
   ]
  },
  {
   "cell_type": "markdown",
   "id": "1d2d5012-ff10-47e0-a4a0-b141c192a192",
   "metadata": {},
   "source": [
    "Python follows well accepted mathematical conventions when evaluating mathematical expressions. In the following example, Python adds 30 to the result of the multiplication (i.e., 120)."
   ]
  },
  {
   "cell_type": "code",
   "execution_count": 12,
   "id": "fb743377-74f0-4d22-bc82-075b901466f0",
   "metadata": {},
   "outputs": [
    {
     "data": {
      "text/plain": [
       "150"
      ]
     },
     "execution_count": 12,
     "metadata": {},
     "output_type": "execute_result"
    }
   ],
   "source": [
    "# Mathematical expression\n",
    "\n",
    "30 + 2 * 60"
   ]
  },
  {
   "cell_type": "markdown",
   "id": "ba17d836-4d5b-4d5f-88d0-219715b4b1cb",
   "metadata": {},
   "source": [
    "And just like mathematics, expressions enclosed in parentheses have priority. So the following multiplies 32 by 60."
   ]
  },
  {
   "cell_type": "code",
   "execution_count": 13,
   "id": "d816d14d-3d74-434b-bda1-3ac941d3c9e2",
   "metadata": {},
   "outputs": [
    {
     "data": {
      "text/plain": [
       "1920"
      ]
     },
     "execution_count": 13,
     "metadata": {},
     "output_type": "execute_result"
    }
   ],
   "source": [
    "# Mathematical expression\n",
    "\n",
    "(30 + 2) * 60"
   ]
  },
  {
   "cell_type": "markdown",
   "id": "d1674072-441a-459a-90bc-63407f2f23e8",
   "metadata": {},
   "source": [
    "## Variables"
   ]
  },
  {
   "cell_type": "markdown",
   "id": "bcf4ed0d-c6d0-4b05-b59c-0c1ff3554f1c",
   "metadata": {},
   "source": [
    " ##### we can store values in variables,"
   ]
  },
  {
   "cell_type": "code",
   "execution_count": 15,
   "id": "497e0ce2-9bcf-4f2b-9b55-280a7f3be350",
   "metadata": {},
   "outputs": [
    {
     "name": "stdout",
     "output_type": "stream",
     "text": [
      "160\n"
     ]
    }
   ],
   "source": [
    "# Store value into variable\n",
    "\n",
    "x = 43 + 60 + 16 + 41 # here x is a variable\n",
    "print(x)"
   ]
  },
  {
   "cell_type": "markdown",
   "id": "be6e17aa-d0b4-4b18-a359-95a46037c357",
   "metadata": {},
   "source": [
    "\n",
    "We can also perform operations on x and save the result to a new variable:"
   ]
  },
  {
   "cell_type": "code",
   "execution_count": 17,
   "id": "148485b6-d8b8-4fe6-9303-96ba2a658a58",
   "metadata": {},
   "outputs": [
    {
     "data": {
      "text/plain": [
       "2.6666666666666665"
      ]
     },
     "execution_count": 17,
     "metadata": {},
     "output_type": "execute_result"
    }
   ],
   "source": [
    "# Use another variable to store the result of the operation between variable and value\n",
    "\n",
    "y = x / 60\n",
    "y"
   ]
  },
  {
   "cell_type": "markdown",
   "id": "d470ee61-643a-4565-8652-1948f4887e74",
   "metadata": {},
   "source": [
    "### It's a good practice to use meaningful variable names, so you and others can read the code and understand it more easily:"
   ]
  },
  {
   "cell_type": "code",
   "execution_count": 18,
   "id": "5511ed19-f38f-472b-b569-0353e7176e89",
   "metadata": {},
   "outputs": [
    {
     "data": {
      "text/plain": [
       "142"
      ]
     },
     "execution_count": 18,
     "metadata": {},
     "output_type": "execute_result"
    }
   ],
   "source": [
    "# Name the variables meaningfully\n",
    "\n",
    "total_min = 43 + 42 + 57 # Total length of albums in minutes\n",
    "total_min\n"
   ]
  },
  {
   "cell_type": "code",
   "execution_count": 19,
   "id": "95d2fe98-eda3-404b-83b5-fac09e793f18",
   "metadata": {},
   "outputs": [
    {
     "data": {
      "text/plain": [
       "2.3666666666666667"
      ]
     },
     "execution_count": 19,
     "metadata": {},
     "output_type": "execute_result"
    }
   ],
   "source": [
    "# Name the variables meaningfully\n",
    "\n",
    "total_hours = total_min / 60 # Total length of albums in hours \n",
    "total_hours"
   ]
  },
  {
   "cell_type": "markdown",
   "id": "68b8eb45-2084-4675-bfb1-c8c0cf0c0c86",
   "metadata": {},
   "source": [
    "### Exercise: Expressions in Python"
   ]
  },
  {
   "cell_type": "markdown",
   "id": "ca54e166-e505-48f6-a2b1-1a85582d4cff",
   "metadata": {},
   "source": [
    "\n",
    "Write an expression to add 30 and 20 and subtract 40"
   ]
  },
  {
   "cell_type": "code",
   "execution_count": 20,
   "id": "7dfe2c71-2ac2-4cd5-bdc2-9bd7fad84f39",
   "metadata": {},
   "outputs": [
    {
     "data": {
      "text/plain": [
       "90"
      ]
     },
     "execution_count": 20,
     "metadata": {},
     "output_type": "execute_result"
    }
   ],
   "source": [
    "30+20+40"
   ]
  },
  {
   "cell_type": "markdown",
   "id": "183fa631-fc51-440a-ab21-b6fa5194f5fe",
   "metadata": {},
   "source": [
    "Write an expression to subtract 5 from 55 and divide the result by 10"
   ]
  },
  {
   "cell_type": "code",
   "execution_count": 23,
   "id": "5108c76b-f9ad-4728-98c8-9cb529d21bcf",
   "metadata": {},
   "outputs": [
    {
     "data": {
      "text/plain": [
       "5.0"
      ]
     },
     "execution_count": 23,
     "metadata": {},
     "output_type": "execute_result"
    }
   ],
   "source": [
    "# Write your code below. Don't forget to press Shift+Enter to execute the cell\n",
    "(55-5)/10\n"
   ]
  },
  {
   "cell_type": "code",
   "execution_count": 25,
   "id": "5fe43fda-01b7-4c4f-ab60-793aeb17c9f4",
   "metadata": {},
   "outputs": [
    {
     "data": {
      "text/plain": [
       "5.0"
      ]
     },
     "execution_count": 25,
     "metadata": {},
     "output_type": "execute_result"
    }
   ],
   "source": [
    "(6*10)/12"
   ]
  },
  {
   "cell_type": "markdown",
   "id": "493f1643-e818-4e63-8b87-34b56c1a2395",
   "metadata": {},
   "source": [
    "# Exercise: Variable in Python"
   ]
  },
  {
   "cell_type": "markdown",
   "id": "76af28ac-824c-4617-a992-39b6f861e9b9",
   "metadata": {},
   "source": [
    "What is the value of x where x = 3 + 2 * 2"
   ]
  },
  {
   "cell_type": "code",
   "execution_count": null,
   "id": "b3af669e-e44a-4901-bd32-9d5a9bd7a7cf",
   "metadata": {},
   "outputs": [],
   "source": [
    "3+2*2"
   ]
  },
  {
   "cell_type": "markdown",
   "id": "17c079cf-fb2d-4ef9-8029-3807d3e366ec",
   "metadata": {},
   "source": [
    "What is the value of y where y = (3 + 2) * 2?"
   ]
  },
  {
   "cell_type": "code",
   "execution_count": 27,
   "id": "d920b6ff-a480-4adb-a3f8-af426186d91c",
   "metadata": {},
   "outputs": [
    {
     "data": {
      "text/plain": [
       "10"
      ]
     },
     "execution_count": 27,
     "metadata": {},
     "output_type": "execute_result"
    }
   ],
   "source": [
    "(3+2)*2"
   ]
  },
  {
   "cell_type": "markdown",
   "id": "2c2d5e21-727f-4224-97dc-142f13ab0e87",
   "metadata": {},
   "source": [
    "\n",
    "What is the value of z where z = x + y?"
   ]
  },
  {
   "cell_type": "code",
   "execution_count": 31,
   "id": "ab45c3db-4735-4717-a182-9dbaf79deb02",
   "metadata": {},
   "outputs": [
    {
     "name": "stdout",
     "output_type": "stream",
     "text": [
      "17\n"
     ]
    }
   ],
   "source": [
    "# Couse in upper cell value of x is 7 and y is 10\n",
    "z = 7+10\n",
    "print(z)\n",
    "\n"
   ]
  },
  {
   "cell_type": "markdown",
   "id": "69455838-f5d2-467e-b639-e963cae4eb99",
   "metadata": {},
   "source": [
    "## I have completed my hands-on lab on Expressions and Variables in Python."
   ]
  },
  {
   "cell_type": "code",
   "execution_count": null,
   "id": "c3877556-1f14-4834-aa1b-06c146f04ff7",
   "metadata": {},
   "outputs": [],
   "source": []
  },
  {
   "cell_type": "code",
   "execution_count": null,
   "id": "e155b5e6-5b41-4d2b-9b84-6058facd6a18",
   "metadata": {},
   "outputs": [],
   "source": []
  }
 ],
 "metadata": {
  "kernelspec": {
   "display_name": "Python 3 (ipykernel)",
   "language": "python",
   "name": "python3"
  },
  "language_info": {
   "codemirror_mode": {
    "name": "ipython",
    "version": 3
   },
   "file_extension": ".py",
   "mimetype": "text/x-python",
   "name": "python",
   "nbconvert_exporter": "python",
   "pygments_lexer": "ipython3",
   "version": "3.12.6"
  }
 },
 "nbformat": 4,
 "nbformat_minor": 5
}
