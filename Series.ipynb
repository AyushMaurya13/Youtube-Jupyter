{
 "cells": [
  {
   "cell_type": "markdown",
   "id": "6723c978-1e42-4b98-8d73-7c9f10978536",
   "metadata": {},
   "source": [
    "# Series"
   ]
  },
  {
   "cell_type": "code",
   "execution_count": 3,
   "id": "8f63f123-45ca-4cbc-8d69-33b5ee32f517",
   "metadata": {},
   "outputs": [
    {
     "name": "stdout",
     "output_type": "stream",
     "text": [
      "0    1\n",
      "1    2\n",
      "2    3\n",
      "3    4\n",
      "4    5\n",
      "dtype: int64\n",
      "<class 'pandas.core.series.Series'>\n",
      "4\n"
     ]
    }
   ],
   "source": [
    "import pandas as pd\n",
    "x = [1,2,3,4,5]\n",
    "c = pd.Series(x) # print in 1-D \n",
    "print(c)\n",
    "print(type(c))\n",
    "print(c[3]) # return data at index 3\n",
    "\n"
   ]
  },
  {
   "cell_type": "code",
   "execution_count": 7,
   "id": "ce3d6e6f-9cf6-484b-9f05-46a74336547a",
   "metadata": {},
   "outputs": [
    {
     "data": {
      "text/plain": [
       "a    1\n",
       "b    2\n",
       "c    3\n",
       "d    4\n",
       "e    5\n",
       "dtype: int64"
      ]
     },
     "execution_count": 7,
     "metadata": {},
     "output_type": "execute_result"
    }
   ],
   "source": [
    "# change index of data \n",
    "c = pd.Series(x,index = ['a','b','c','d','e'])\n",
    "c"
   ]
  },
  {
   "cell_type": "markdown",
   "id": "e71f008e-f471-4f58-9ff7-0881ff289b28",
   "metadata": {},
   "source": [
    "### Make dataset using Dictionary"
   ]
  },
  {
   "cell_type": "code",
   "execution_count": 11,
   "id": "d83c9e33-b2cd-48da-9fcd-0ec94fd544fa",
   "metadata": {},
   "outputs": [
    {
     "data": {
      "text/plain": [
       "name    [Python, c, c#]\n",
       "rank          [1, 2, 3]\n",
       "dtype: object"
      ]
     },
     "execution_count": 11,
     "metadata": {},
     "output_type": "execute_result"
    }
   ],
   "source": [
    "dic = {\n",
    "       \"name\":['Python','c','c#'],\n",
    "       \"rank\":[1,2,3]\n",
    "}\n",
    "\n",
    "var = pd.Series(dic)\n",
    "var    "
   ]
  },
  {
   "cell_type": "code",
   "execution_count": 12,
   "id": "2267af3a-f7cc-491b-8b3b-6cfbb2a09069",
   "metadata": {},
   "outputs": [
    {
     "data": {
      "text/plain": [
       "1    12\n",
       "2    12\n",
       "3    12\n",
       "4    12\n",
       "5    12\n",
       "6    12\n",
       "7    12\n",
       "dtype: int64"
      ]
     },
     "execution_count": 12,
     "metadata": {},
     "output_type": "execute_result"
    }
   ],
   "source": [
    "# all index assign 12\n",
    "s =pd.Series(12,index = [1,2,3,4,5,6,7])\n",
    "s"
   ]
  },
  {
   "cell_type": "code",
   "execution_count": 13,
   "id": "5d79b62c-3a53-42ed-a9aa-4b65f910e4e9",
   "metadata": {},
   "outputs": [
    {
     "name": "stdout",
     "output_type": "stream",
     "text": [
      "1    24.0\n",
      "2    24.0\n",
      "3    24.0\n",
      "4    24.0\n",
      "5     NaN\n",
      "dtype: float64\n"
     ]
    }
   ],
   "source": [
    "# Both are Series in 1 -D\n",
    "s1 = pd.Series(12,index = [1,2,3,4,5])\n",
    "s2 = pd.Series(12,index = [1,2,3,4])\n",
    "print(s1+s2)# Add both series s1 and s2\n"
   ]
  },
  {
   "cell_type": "markdown",
   "id": "64ffe178-6479-437e-97db-0e78048baa0c",
   "metadata": {},
   "source": [
    "Series : It is define as a one - dimensional array that is capable of storing \n",
    "various data types.\n",
    "\n",
    "import pandas as pd\n",
    "\n",
    "a = pd.Series()\n",
    "print(a)"
   ]
  },
  {
   "cell_type": "markdown",
   "id": "54cb014d-cc6f-4207-9e6d-72dc08ae2aaf",
   "metadata": {},
   "source": [
    "# End"
   ]
  },
  {
   "cell_type": "code",
   "execution_count": null,
   "id": "dcd65d01-be87-4572-bac9-7036d726dba0",
   "metadata": {},
   "outputs": [],
   "source": []
  },
  {
   "cell_type": "code",
   "execution_count": null,
   "id": "33f4b0db-0be4-4b8e-be4c-64fa6386c3f3",
   "metadata": {},
   "outputs": [],
   "source": []
  },
  {
   "cell_type": "code",
   "execution_count": null,
   "id": "c267a92d-cc48-49f5-80c3-a505560087bc",
   "metadata": {},
   "outputs": [],
   "source": []
  }
 ],
 "metadata": {
  "kernelspec": {
   "display_name": "Python 3 (ipykernel)",
   "language": "python",
   "name": "python3"
  },
  "language_info": {
   "codemirror_mode": {
    "name": "ipython",
    "version": 3
   },
   "file_extension": ".py",
   "mimetype": "text/x-python",
   "name": "python",
   "nbconvert_exporter": "python",
   "pygments_lexer": "ipython3",
   "version": "3.12.6"
  }
 },
 "nbformat": 4,
 "nbformat_minor": 5
}
