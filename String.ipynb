{
 "cells": [
  {
   "cell_type": "markdown",
   "id": "d17923f4-63bf-4872-8f1c-f96f18fab0ba",
   "metadata": {},
   "source": [
    "# String Operation "
   ]
  },
  {
   "cell_type": "markdown",
   "id": "4899b3e5-7280-4585-8f59-296fccde605f",
   "metadata": {},
   "source": [
    "#### What are Strings?"
   ]
  },
  {
   "cell_type": "code",
   "execution_count": null,
   "id": "1f034445-3690-483d-847b-9004eb355ec3",
   "metadata": {},
   "outputs": [],
   "source": []
  }
 ],
 "metadata": {
  "kernelspec": {
   "display_name": "Python 3 (ipykernel)",
   "language": "python",
   "name": "python3"
  },
  "language_info": {
   "codemirror_mode": {
    "name": "ipython",
    "version": 3
   },
   "file_extension": ".py",
   "mimetype": "text/x-python",
   "name": "python",
   "nbconvert_exporter": "python",
   "pygments_lexer": "ipython3",
   "version": "3.12.6"
  }
 },
 "nbformat": 4,
 "nbformat_minor": 5
}
